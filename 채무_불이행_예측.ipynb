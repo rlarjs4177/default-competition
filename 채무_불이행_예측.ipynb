{
 "cells": [
  {
   "cell_type": "markdown",
   "id": "310518c8-abe2-4545-a530-cec81ac12e9a",
   "metadata": {},
   "source": [
    "# 모델링"
   ]
  },
  {
   "cell_type": "code",
   "execution_count": 1,
   "id": "61ce6cc5-9d78-4acb-ba9a-6211b0819be9",
   "metadata": {},
   "outputs": [],
   "source": [
    "import pandas as pd\n",
    "\n",
    "# 데이터셋 로드\n",
    "train = pd.read_csv('채무_불이행_예측train.csv')\n",
    "test = pd.read_csv('채무_불이행_예측test.csv')\n",
    "\n",
    "# 데이터 전처리\n",
    "# 'train'과 'test' 데이터에서 'UID' 열을 제거하고, 'test'의 'UID'는 별도로 저장\n",
    "train = train.drop('UID', axis = 1)\n",
    "UID = test.pop('UID')\n",
    "\n",
    "# 의미 없는 변수 제거\n",
    "train = train.drop(['신용 거래 연수', '최대 신용한도', '신용 문제 발생 횟수', '마지막 연체 이후 경과 개월 수', '대출 목적', '현재 대출 잔액', '현재 미상환 신용액'], axis = 1)\n",
    "test = test.drop(['신용 거래 연수', '최대 신용한도', '신용 문제 발생 횟수', '마지막 연체 이후 경과 개월 수', '대출 목적', '현재 대출 잔액', '현재 미상환 신용액'], axis = 1)\n",
    "\n",
    "# 타겟 변수 저장\n",
    "target = train.pop('채무 불이행 여부')\n",
    "\n",
    "# 레이블 인코딩\n",
    "from sklearn.preprocessing import LabelEncoder\n",
    "cols = train.columns[train.dtypes == object]\n",
    "\n",
    "for col in cols:\n",
    "    le = LabelEncoder()\n",
    "    train[col] = le.fit_transform(train[col])\n",
    "    test[col] = le.transform(test[col])\n",
    "\n",
    "# 모델 학습\n",
    "# CatBoost\n",
    "from catboost import CatBoostClassifier\n",
    "cat = CatBoostClassifier(verbose = 0, random_state = 0)\n",
    "cat.fit(train, target)\n",
    "\n",
    "# 제출\n",
    "pred = cat.predict_proba(test)\n",
    "submit = pd.DataFrame({'UID':UID,\n",
    "                    '채무 불이행 확률':pred[:, 1]})\n",
    "submit.to_csv('채무_불이행_예측sample_submission.csv', index = False)\n"
   ]
  },
  {
   "cell_type": "code",
   "execution_count": null,
   "id": "861287c3-29ff-4965-ba70-42c6656007a1",
   "metadata": {},
   "outputs": [],
   "source": []
  }
 ],
 "metadata": {
  "kernelspec": {
   "display_name": "Python 3 (ipykernel)",
   "language": "python",
   "name": "python3"
  },
  "language_info": {
   "codemirror_mode": {
    "name": "ipython",
    "version": 3
   },
   "file_extension": ".py",
   "mimetype": "text/x-python",
   "name": "python",
   "nbconvert_exporter": "python",
   "pygments_lexer": "ipython3",
   "version": "3.12.7"
  }
 },
 "nbformat": 4,
 "nbformat_minor": 5
}
